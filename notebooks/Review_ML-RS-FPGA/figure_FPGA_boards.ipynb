{
 "cells": [
  {
   "cell_type": "markdown",
   "metadata": {},
   "source": [
    "# Figure notebook\n",
    "\n",
    "Unreported boards (BibTex key, board, reason to not report)\n",
    "\n",
    "- martinsRealtimeSVMbasedHardware2024, Cyclone V, \"embedded system with an ARM Cortex-A9 integrated with Cyclone V SoC\" + they get worse performance\n",
    "- rapuanoFPGAbasedHardwareAccelerator2021a, Kintex US rad-hard (XQRKU060), don't report total power + half the frequency and double the latency + They use ZU7EV as a development board\n",
    "- heConfigurable2D3D2023a, Zynq 7000 (Z7020) {Zedboard}, only ran HybridSN on it + lower-cost and less resources\n",
    "- gargAircraftDetectionSatellite2024, Kintex Ultrascale(KU040), 0 details about it, just report lower FPS than the Zynq US+\n",
    "- sabogalMethodologyEvaluatingAnalyzing2021a, Zynq Z7020, experiment same than their Zynq US+, no more details\n"
   ]
  },
  {
   "cell_type": "code",
   "execution_count": 2,
   "metadata": {},
   "outputs": [],
   "source": [
    "import pandas as pd\n",
    "from pathlib import Path\n",
    "import re\n",
    "\n",
    "from utils import print_pretty_df\n",
    "\n",
    "# Quick ANSI color code shortcuts\n",
    "r = \"\\033[31m\"\n",
    "y = \"\\033[33m\"\n",
    "g = \"\\033[32m\"\n",
    "b = \"\\033[34m\"\n",
    "e = \"\\033[0m\"\n",
    "\n",
    "pickleName = \"all_datapoints.pkl\"\n",
    "datapointsDfPath = Path(\"..\") / \"..\" / \"data\" / \"Review_ML-RS-FPGA\" / \"Dataframes\" / pickleName\n",
    "datapointsDf = pd.read_pickle(datapointsDfPath)"
   ]
  },
  {
   "cell_type": "code",
   "execution_count": null,
   "metadata": {},
   "outputs": [],
   "source": [
    "listUnreportedFPGAs = [\"Cyclone V\", \"Kintex US rad-hard (XQRKU060)\", \"Zynq 7000 (Z7020) {Zedboard}\", \"Kintex Ultrascale(KU040)\", \"Zynq Z7020\"]\n",
    "uniqueBoardsPerPaper = datapointsDf[\"Boards\"]\n",
    "listFPGAs = uniqueBoardsPerPaper + listUnreportedFPGAs"
   ]
  }
 ],
 "metadata": {
  "kernelspec": {
   "display_name": "mess",
   "language": "python",
   "name": "python3"
  },
  "language_info": {
   "codemirror_mode": {
    "name": "ipython",
    "version": 3
   },
   "file_extension": ".py",
   "mimetype": "text/x-python",
   "name": "python",
   "nbconvert_exporter": "python",
   "pygments_lexer": "ipython3",
   "version": "3.10.0"
  }
 },
 "nbformat": 4,
 "nbformat_minor": 2
}
