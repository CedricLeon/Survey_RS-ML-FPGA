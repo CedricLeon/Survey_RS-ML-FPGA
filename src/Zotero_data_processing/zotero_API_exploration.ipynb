{
 "cells": [
  {
   "cell_type": "markdown",
   "metadata": {},
   "source": [
    "# Explore Zotero API\n",
    "\n",
    "This notebooks hosts unnecessary snippets of code useful explore the Zotero API.\n",
    "Use this notebook to identify your libraries IDs, design item filters, etc.\n"
   ]
  },
  {
   "cell_type": "code",
   "execution_count": 3,
   "metadata": {},
   "outputs": [],
   "source": [
    "from pyzotero import zotero\n",
    "from pprint import pprint\n",
    "from tqdm import tqdm"
   ]
  },
  {
   "cell_type": "markdown",
   "metadata": {},
   "source": [
    "## Initialize connection to the API\n"
   ]
  },
  {
   "cell_type": "code",
   "execution_count": 5,
   "metadata": {},
   "outputs": [],
   "source": [
    "# --- Settings ---\n",
    "# Zotero API settings\n",
    "group_library_id = \"5602981\"\n",
    "user_library_id = \"8968938\"  # From: https://www.zotero.org/settings/keys\n",
    "library_type = \"group\"  # To access the shared library, otherwise for private \"user\"\n",
    "# To access Zotero libraries the API users need to create a key that (at least) \"Allow library access\"\n",
    "api_key = open(\".keys\").read().split(\":\")[1].strip()\n",
    "\n",
    "# --- Zotero API initialization ---\n",
    "zot = zotero.Zotero(group_library_id, library_type, api_key)\n",
    "del group_library_id, library_type, api_key"
   ]
  },
  {
   "cell_type": "markdown",
   "metadata": {},
   "source": [
    "## Useful commands\n"
   ]
  },
  {
   "cell_type": "code",
   "execution_count": null,
   "metadata": {},
   "outputs": [],
   "source": [
    "# ----- Print all collections -----\n",
    "collections = zot.all_collections()\n",
    "print(len(collections), \"collections in your library\")\n",
    "pprint(collections)\n",
    "# ----- Get every possible item -----\n",
    "# Zotero.everything() leverages the 100 items per request limit\n",
    "allItems = zot.everything(zot.top())\n",
    "# I have ~310 items and it takes 20s to fetch them all\n",
    "pprint(f\"{len(allItems)} items in your library\")\n",
    "# ------ See which item types are available -----\n",
    "pprint(len(zot.item_types()))"
   ]
  },
  {
   "cell_type": "code",
   "execution_count": null,
   "metadata": {},
   "outputs": [],
   "source": [
    "# ------ Search parameters -----\n",
    "# Adding search parameters fetches only a subpart of the collection\n",
    "#  Here is an example to select only conference papers and journal articles\n",
    "# /!\\ Ideally I just want to NOT select notes and attachments, but I did not find the API syntax to do so\n",
    "zot.add_parameters(itemType=\"conferencePaper || journalArticle\")\n",
    "# Fetch all the items in the library (Without the limitation of 100 items per request)\n",
    "collectedItems = zot.everything(zot.collection_items(\"PEWYQYGG\"))\n",
    "print(len(collectedItems), \" items in the review collection\")"
   ]
  }
 ],
 "metadata": {
  "kernelspec": {
   "display_name": "mess",
   "language": "python",
   "name": "python3"
  },
  "language_info": {
   "codemirror_mode": {
    "name": "ipython",
    "version": 3
   },
   "file_extension": ".py",
   "mimetype": "text/x-python",
   "name": "python",
   "nbconvert_exporter": "python",
   "pygments_lexer": "ipython3",
   "version": "3.10.0"
  }
 },
 "nbformat": 4,
 "nbformat_minor": 2
}
