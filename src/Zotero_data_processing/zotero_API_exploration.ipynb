{
 "cells": [
  {
   "cell_type": "markdown",
   "metadata": {},
   "source": [
    "# Explore Zotero API\n",
    "\n",
    "This notebooks hosts unnecessary snippets of code useful explore the Zotero API.\n",
    "Use this notebook to identify your libraries IDs, design item filters, etc.\n"
   ]
  },
  {
   "cell_type": "code",
   "execution_count": 1,
   "metadata": {},
   "outputs": [],
   "source": [
    "from pyzotero import zotero\n",
    "from pprint import pprint"
   ]
  },
  {
   "cell_type": "markdown",
   "metadata": {},
   "source": [
    "## Initialize connection to the API\n"
   ]
  },
  {
   "cell_type": "code",
   "execution_count": null,
   "metadata": {},
   "outputs": [],
   "source": [
    "# --- Zotero API Settings ---\n",
    "group_library_id = \"5602981\"\n",
    "user_library_id = \"8968938\"  # From: https://www.zotero.org/settings/keys\n",
    "library_type = \"group\"  # To access the shared library, otherwise for private \"user\"\n",
    "# To access their Zotero libraries from the API users need to create a key that (at least) \"Allow library access\"\n",
    "api_key = open(\".keys\").read().split(\":\")[1].strip()\n",
    "\n",
    "# --- Zotero API initialization ---\n",
    "zot = zotero.Zotero(group_library_id, library_type, api_key)\n",
    "del group_library_id, library_type, api_key"
   ]
  },
  {
   "cell_type": "markdown",
   "metadata": {},
   "source": [
    "## Useful commands\n"
   ]
  },
  {
   "cell_type": "code",
   "execution_count": null,
   "metadata": {},
   "outputs": [
    {
     "name": "stdout",
     "output_type": "stream",
     "text": [
      "26 collections in your library\n",
      "'337 items in your library'\n",
      "'38 item types in your library'\n"
     ]
    }
   ],
   "source": [
    "# ----- Print all collections -----\n",
    "collections = zot.all_collections()\n",
    "print(len(collections), \"collections in your library\")\n",
    "# pprint(collections) # Print the collection to find their IDs\n",
    "# ----- Get every possible item -----\n",
    "# Zotero.everything() leverages the 100 items per request limit\n",
    "allItems = zot.everything(zot.top())\n",
    "# As we have ~330 items it takes ~30s to fetch them all\n",
    "pprint(f\"{len(allItems)} items in your library\")\n",
    "# ------ See which item types are available -----\n",
    "pprint(f\"{len(zot.item_types())} item types in your library\")"
   ]
  },
  {
   "cell_type": "markdown",
   "metadata": {},
   "source": [
    "### Find the key of a collection from its name\n"
   ]
  },
  {
   "cell_type": "code",
   "execution_count": 12,
   "metadata": {},
   "outputs": [
    {
     "name": "stdout",
     "output_type": "stream",
     "text": [
      "The key of the collection 2. - Studies included in review is PEWYQYGG\n"
     ]
    }
   ],
   "source": [
    "for col in collections:\n",
    "    if \"included in review\" in col[\"data\"][\"name\"]:\n",
    "        collection_key = col['data']['key']\n",
    "        print(f\"The key of the collection {col['data']['name']} is {collection_key}\")\n",
    "        # pprint(col)\n",
    "        break"
   ]
  },
  {
   "cell_type": "markdown",
   "metadata": {},
   "source": [
    "### Refine the search\n"
   ]
  },
  {
   "cell_type": "code",
   "execution_count": null,
   "metadata": {},
   "outputs": [
    {
     "name": "stdout",
     "output_type": "stream",
     "text": [
      "48  items in the review collection\n"
     ]
    }
   ],
   "source": [
    "# ------ Search parameters -----\n",
    "# Adding search parameters fetches only a subpart of the collection\n",
    "# Here is an example to select only conference papers and journal articles\n",
    "zot.add_parameters(itemType=\"conferencePaper || journalArticle\")\n",
    "# Fetch all the items in the library (Without the limitation of 100 items per request)\n",
    "items = zot.everything(zot.collection_items(collection_key))\n",
    "print(len(items), \" items in the review collection\")"
   ]
  }
 ],
 "metadata": {
  "kernelspec": {
   "display_name": "rs_ml_fpga",
   "language": "python",
   "name": "python3"
  },
  "language_info": {
   "codemirror_mode": {
    "name": "ipython",
    "version": 3
   },
   "file_extension": ".py",
   "mimetype": "text/x-python",
   "name": "python",
   "nbconvert_exporter": "python",
   "pygments_lexer": "ipython3",
   "version": "3.11.11"
  }
 },
 "nbformat": 4,
 "nbformat_minor": 2
}
